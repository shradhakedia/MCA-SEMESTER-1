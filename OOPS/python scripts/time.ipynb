{
 "metadata": {
  "language_info": {
   "codemirror_mode": {
    "name": "ipython",
    "version": 3
   },
   "file_extension": ".py",
   "mimetype": "text/x-python",
   "name": "python",
   "nbconvert_exporter": "python",
   "pygments_lexer": "ipython3",
   "version": "3.9.2-final"
  },
  "orig_nbformat": 2,
  "kernelspec": {
   "name": "python3",
   "display_name": "Python 3.9.2 64-bit",
   "metadata": {
    "interpreter": {
     "hash": "9552b8190f63102abce783a036fdab59c8fbd44b305ff071c472b263e7af8b3a"
    }
   }
  }
 },
 "nbformat": 4,
 "nbformat_minor": 2,
 "cells": [
  {
   "source": [
    "# TIME"
   ],
   "cell_type": "markdown",
   "metadata": {}
  },
  {
   "source": [
    "# using python time module"
   ],
   "cell_type": "markdown",
   "metadata": {}
  },
  {
   "cell_type": "code",
   "execution_count": 1,
   "metadata": {},
   "outputs": [],
   "source": [
    "import time"
   ]
  },
  {
   "cell_type": "code",
   "execution_count": 6,
   "metadata": {},
   "outputs": [
    {
     "output_type": "execute_result",
     "data": {
      "text/plain": [
       "1615277938.4061007"
      ]
     },
     "metadata": {},
     "execution_count": 6
    }
   ],
   "source": [
    "time.time() # returns total seconds from 1 January 1970"
   ]
  },
  {
   "cell_type": "code",
   "execution_count": 7,
   "metadata": {},
   "outputs": [
    {
     "output_type": "execute_result",
     "data": {
      "text/plain": [
       "time.struct_time(tm_year=2021, tm_mon=3, tm_mday=9, tm_hour=13, tm_min=49, tm_sec=2, tm_wday=1, tm_yday=68, tm_isdst=0)"
      ]
     },
     "metadata": {},
     "execution_count": 7
    }
   ],
   "source": [
    "t = time.localtime(time.time()) # converts the seconds into a time_struct\n",
    "t"
   ]
  },
  {
   "cell_type": "code",
   "execution_count": 5,
   "metadata": {},
   "outputs": [
    {
     "output_type": "execute_result",
     "data": {
      "text/plain": [
       "9"
      ]
     },
     "metadata": {},
     "execution_count": 5
    }
   ],
   "source": [
    "t[2]"
   ]
  },
  {
   "cell_type": "code",
   "execution_count": 8,
   "metadata": {},
   "outputs": [
    {
     "output_type": "execute_result",
     "data": {
      "text/plain": [
       "'Mon Mar  8 13:59:03 2021'"
      ]
     },
     "metadata": {},
     "execution_count": 8
    }
   ],
   "source": [
    "time.asctime(t) # converts the time_struct into time (as ctime)"
   ]
  },
  {
   "cell_type": "code",
   "execution_count": 9,
   "metadata": {},
   "outputs": [
    {
     "output_type": "execute_result",
     "data": {
      "text/plain": [
       "'Mon Mar  8 13:59:52 2021'"
      ]
     },
     "metadata": {},
     "execution_count": 9
    }
   ],
   "source": [
    "time.ctime()    # returns current time"
   ]
  },
  {
   "cell_type": "code",
   "execution_count": 3,
   "metadata": {},
   "outputs": [
    {
     "output_type": "execute_result",
     "data": {
      "text/plain": [
       "time.struct_time(tm_year=2021, tm_mon=3, tm_mday=8, tm_hour=11, tm_min=36, tm_sec=53, tm_wday=0, tm_yday=67, tm_isdst=0)"
      ]
     },
     "metadata": {},
     "execution_count": 3
    }
   ],
   "source": [
    "time.gmtime()   # returns gmt"
   ]
  },
  {
   "cell_type": "code",
   "execution_count": 34,
   "metadata": {},
   "outputs": [
    {
     "output_type": "execute_result",
     "data": {
      "text/plain": [
       "1615117624.0"
      ]
     },
     "metadata": {},
     "execution_count": 34
    }
   ],
   "source": [
    "time.mktime(t)  # converts the time_struct into seconds"
   ]
  },
  {
   "cell_type": "code",
   "execution_count": 37,
   "metadata": {},
   "outputs": [],
   "source": [
    "time.sleep(3)   # make the thread to go to sleep for specified seconds"
   ]
  },
  {
   "cell_type": "code",
   "execution_count": 15,
   "metadata": {},
   "outputs": [
    {
     "output_type": "execute_result",
     "data": {
      "text/plain": [
       "':46 13 :50 '"
      ]
     },
     "metadata": {},
     "execution_count": 15
    }
   ],
   "source": [
    "time.strftime(\":%S %H :%M \") # used to return the time according to the format string"
   ]
  },
  {
   "cell_type": "code",
   "execution_count": 71,
   "metadata": {},
   "outputs": [
    {
     "output_type": "execute_result",
     "data": {
      "text/plain": [
       "time.struct_time(tm_year=2021, tm_mon=3, tm_mday=7, tm_hour=17, tm_min=26, tm_sec=26, tm_wday=6, tm_yday=66, tm_isdst=-1)"
      ]
     },
     "metadata": {},
     "execution_count": 71
    }
   ],
   "source": [
    "time.strptime(time.ctime()) #converts the ctime into time struct"
   ]
  },
  {
   "source": [
    "## finding the time taken to execute a script"
   ],
   "cell_type": "markdown",
   "metadata": {}
  },
  {
   "cell_type": "code",
   "execution_count": 33,
   "metadata": {},
   "outputs": [
    {
     "output_type": "stream",
     "name": "stdout",
     "text": [
      "Time taken to execute the script is 4.005383729934692\n"
     ]
    }
   ],
   "source": [
    "start = time.time()\n",
    "\n",
    "time.sleep(4)\n",
    "\n",
    "stop = time.time()\n",
    "print(\"Time taken to execute the script is\", stop-start)"
   ]
  },
  {
   "cell_type": "code",
   "execution_count": 22,
   "metadata": {},
   "outputs": [
    {
     "output_type": "stream",
     "name": "stdout",
     "text": [
      "Time taken to execute the script is 0.0009965896606445312\n"
     ]
    }
   ],
   "source": [
    "start = time.time()\n",
    "\n",
    "# import math\n",
    "for i in range(int(10e2)):\n",
    "    # math.sqrt(i)\n",
    "    pass\n",
    "\n",
    "print(\"Time taken to execute the script is\", time.time()-start)"
   ]
  },
  {
   "source": [
    "# Using timeit module"
   ],
   "cell_type": "markdown",
   "metadata": {}
  },
  {
   "cell_type": "code",
   "execution_count": 25,
   "metadata": {},
   "outputs": [],
   "source": [
    "import timeit"
   ]
  },
  {
   "cell_type": "code",
   "execution_count": 28,
   "metadata": {},
   "outputs": [],
   "source": [
    "a =\"import math\""
   ]
  },
  {
   "cell_type": "code",
   "execution_count": 30,
   "metadata": {},
   "outputs": [
    {
     "output_type": "stream",
     "name": "stdout",
     "text": [
      "Time taken to execute the script is 0.05076959999951214\n"
     ]
    }
   ],
   "source": [
    "script = '''\n",
    "for i in range(int(10e2)):\n",
    "    math.sqrt(i)\n",
    "'''\n",
    "\n",
    "print(\"Time taken to execute the script is\", timeit.timeit(script,setup=a,number=100))"
   ]
  },
  {
   "cell_type": "code",
   "execution_count": 15,
   "metadata": {},
   "outputs": [
    {
     "output_type": "stream",
     "name": "stdout",
     "text": [
      "Time taken to execute the script is 0.2857841999999948\n"
     ]
    }
   ],
   "source": [
    "script = '''\n",
    "import math\n",
    "for i in range(int(10e5)):\n",
    "    math.sqrt(i)\n",
    "'''\n",
    "\n",
    "print(\"Time taken to execute the script is\", timeit.timeit(script,number=1))"
   ]
  },
  {
   "source": [
    "# Datetime module"
   ],
   "cell_type": "markdown",
   "metadata": {}
  },
  {
   "cell_type": "code",
   "execution_count": 31,
   "metadata": {},
   "outputs": [],
   "source": [
    "import datetime"
   ]
  },
  {
   "cell_type": "code",
   "execution_count": 32,
   "metadata": {},
   "outputs": [
    {
     "output_type": "execute_result",
     "data": {
      "text/plain": [
       "datetime.datetime(2021, 3, 9, 13, 57, 11, 927213)"
      ]
     },
     "metadata": {},
     "execution_count": 32
    }
   ],
   "source": [
    "tm = datetime.datetime.now()\n",
    "tm"
   ]
  },
  {
   "cell_type": "code",
   "execution_count": 36,
   "metadata": {},
   "outputs": [
    {
     "output_type": "execute_result",
     "data": {
      "text/plain": [
       "datetime.time(23, 59, 59)"
      ]
     },
     "metadata": {},
     "execution_count": 36
    }
   ],
   "source": [
    "datetime.time(23,59,59)"
   ]
  },
  {
   "cell_type": "code",
   "execution_count": 40,
   "metadata": {},
   "outputs": [
    {
     "output_type": "execute_result",
     "data": {
      "text/plain": [
       "datetime.date(2021, 3, 7)"
      ]
     },
     "metadata": {},
     "execution_count": 40
    }
   ],
   "source": [
    "datetime.date(2021,3,8)"
   ]
  },
  {
   "cell_type": "code",
   "execution_count": 47,
   "metadata": {},
   "outputs": [
    {
     "output_type": "execute_result",
     "data": {
      "text/plain": [
       "datetime.date(2021, 3, 7)"
      ]
     },
     "metadata": {},
     "execution_count": 47
    }
   ],
   "source": [
    "datetime.datetime.date(tm)"
   ]
  },
  {
   "cell_type": "code",
   "execution_count": 50,
   "metadata": {},
   "outputs": [
    {
     "output_type": "execute_result",
     "data": {
      "text/plain": [
       "datetime.time(17, 47, 29, 264187)"
      ]
     },
     "metadata": {},
     "execution_count": 50
    }
   ],
   "source": [
    "datetime.datetime.time(tm)"
   ]
  },
  {
   "cell_type": "code",
   "execution_count": 55,
   "metadata": {},
   "outputs": [
    {
     "output_type": "execute_result",
     "data": {
      "text/plain": [
       "'17: 47: 29'"
      ]
     },
     "metadata": {},
     "execution_count": 55
    }
   ],
   "source": [
    "tm.strftime(\"%H: %M: %S\")"
   ]
  }
 ]
}