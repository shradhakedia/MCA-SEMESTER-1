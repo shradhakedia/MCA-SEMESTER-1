{
 "metadata": {
  "language_info": {
   "codemirror_mode": {
    "name": "ipython",
    "version": 3
   },
   "file_extension": ".py",
   "mimetype": "text/x-python",
   "name": "python",
   "nbconvert_exporter": "python",
   "pygments_lexer": "ipython3",
   "version": "3.9.1-final"
  },
  "orig_nbformat": 2,
  "kernelspec": {
   "name": "python3",
   "display_name": "Python 3.9.1 64-bit",
   "metadata": {
    "interpreter": {
     "hash": "fe06f96167c4fc64a78c238d993189072a4e72b444216e36203d6f96126eaf0a"
    }
   }
  }
 },
 "nbformat": 4,
 "nbformat_minor": 2,
 "cells": [
  {
   "cell_type": "code",
   "execution_count": 64,
   "metadata": {},
   "outputs": [
    {
     "output_type": "stream",
     "name": "stdout",
     "text": [
      "-------------------- Identity Law --------------------\n",
      "Truth Table for P^T=P\n",
      "  P\tTrue\t P\n",
      " --------------------\n",
      "True \tTrue\t True\n",
      "False \tTrue\t False\n",
      "True \tTrue\t True\n",
      "False \tTrue\t False\n",
      "True \tTrue\t True\n"
     ]
    }
   ],
   "source": [
    "#identity law\n",
    "print(\"-\"*20,\"Identity Law\",\"-\"*20)\n",
    "p=list(map(bool,map(int,input(\"Enter the no. separated by space\").strip().split())))\n",
    "print(\"Truth Table for P^T=P\\n  P\\tTrue\\t P\\n\",\"-\"*20)\n",
    "for i in p:\n",
    "    print(i,\"\\tTrue\\t\",i&True)"
   ]
  },
  {
   "cell_type": "code",
   "execution_count": 18,
   "metadata": {},
   "outputs": [
    {
     "output_type": "stream",
     "name": "stdout",
     "text": [
      "-------------------- Identity Law --------------------\n",
      "Truth Table for PvF=P\n",
      "  P\tFalse\t P\n",
      " --------------------\n",
      "True \tFalse\t True\n",
      "True \tFalse\t True\n",
      "True \tFalse\t True\n",
      "True \tFalse\t True\n",
      "False \tFalse\t False\n",
      "True \tFalse\t True\n"
     ]
    }
   ],
   "source": [
    "#identity law\n",
    "print(\"-\"*20,\"Identity Law\",\"-\"*20)\n",
    "p=list(map(bool,map(int,input(\"Enter the no. separated by space\").strip().split())))\n",
    "print(\"Truth Table for PvF=P\\n  P\\tFalse\\t P\\n\",\"-\"*20)\n",
    "for i in p:\n",
    "    print(i,\"\\tFalse\\t\",i|False)"
   ]
  },
  {
   "cell_type": "code",
   "execution_count": 17,
   "metadata": {},
   "outputs": [
    {
     "output_type": "stream",
     "name": "stdout",
     "text": [
      "-------------------- Domination Law --------------------\n",
      "Truth Table for PvT=T\n",
      "  P\tTrue\tTrue\n",
      " --------------------\n",
      "True \tTrue\t True\n",
      "False \tTrue\t True\n",
      "True \tTrue\t True\n",
      "True \tTrue\t True\n",
      "True \tTrue\t True\n",
      "False \tTrue\t True\n",
      "True \tTrue\t True\n"
     ]
    }
   ],
   "source": [
    "#domination law\n",
    "print(\"-\"*20,\"Domination Law\",\"-\"*20)\n",
    "p=list(map(bool,map(int,input(\"Enter the no. separated by space\").strip().split())))\n",
    "print(\"Truth Table for PvT=T\\n  P\\tTrue\\tTrue\\n\",\"-\"*20)\n",
    "for i in p:\n",
    "    print(i,\"\\tTrue\\t\",i|True)"
   ]
  },
  {
   "cell_type": "code",
   "execution_count": 16,
   "metadata": {},
   "outputs": [
    {
     "output_type": "stream",
     "name": "stdout",
     "text": [
      "-------------------- Domination Law --------------------\n",
      "Truth Table for P^F=F\n",
      "  P\tFalse\tFalse\n",
      " --------------------\n",
      "True \tFalse\t False\n",
      "False \tFalse\t False\n",
      "True \tFalse\t False\n",
      "False \tFalse\t False\n",
      "True \tFalse\t False\n"
     ]
    }
   ],
   "source": [
    "#domination law\n",
    "print(\"-\"*20,\"Domination Law\",\"-\"*20)\n",
    "p=list(map(bool,map(int,input(\"Enter the no. separated by space\").strip().split())))\n",
    "print(\"Truth Table for P^F=F\\n  P\\tFalse\\tFalse\\n\",\"-\"*20)\n",
    "for i in p:\n",
    "    print(i,\"\\tFalse\\t\",i&False)"
   ]
  },
  {
   "cell_type": "code",
   "execution_count": 20,
   "metadata": {},
   "outputs": [
    {
     "output_type": "stream",
     "name": "stdout",
     "text": [
      "-------------------- Double Negation Law --------------------\n",
      "Truth Table for ~(~P)=P\n",
      "  P\t~(~P)\n",
      " --------------------\n",
      "True \t True\n",
      "False \t False\n",
      "True \t True\n",
      "False \t False\n"
     ]
    }
   ],
   "source": [
    "#double negation law\n",
    "print(\"-\"*20,\"Double Negation Law\",\"-\"*20)\n",
    "p=list(map(bool,map(int,input(\"Enter the no. separated by space\").strip().split())))\n",
    "print(\"Truth Table for ~(~P)=P\\n  P\\t~(~P)\\n\",\"-\"*20)\n",
    "for i in p:\n",
    "    print(i,\"\\t\",not(not(i)))"
   ]
  },
  {
   "cell_type": "code",
   "execution_count": 34,
   "metadata": {},
   "outputs": [
    {
     "output_type": "stream",
     "name": "stdout",
     "text": [
      "-------------------- DeMorgans law Law --------------------\n",
      "Truth Table for ~(P^Q)=(~P)v(~Q)\n",
      "P\t Q\t ~P\t ~Q\t ~(P^Q)\t (~P)v(~Q) \n",
      " --------------------------------------------------\n",
      "True \t False \t False \t True \t True \t True\n",
      "False \t True \t True \t False \t True \t True\n",
      "True \t False \t False \t True \t True \t True\n",
      "False \t False \t True \t True \t True \t True\n"
     ]
    }
   ],
   "source": [
    "#DeMorgan's law\n",
    "print(\"-\"*20,\"DeMorgans Law\",\"-\"*20)\n",
    "p=list(map(bool,map(int,input(\"Enter the no. separated by space\").strip().split())))\n",
    "q=list(map(bool,map(int,input(\"Enter the no. separated by space\").strip().split())))\n",
    "print(\"Truth Table for ~(P^Q)=(~P)v(~Q)\\nP\\t Q\\t ~P\\t ~Q\\t ~(P^Q)\\t (~P)v(~Q) \\n\",\"-\"*50)\n",
    "for i,j in zip(p,q):\n",
    "    print(i,\"\\t\",j,\"\\t\",not(i),\"\\t\",not(j),\"\\t\",not(i&j),\"\\t\",(not(i))|(not(j)))"
   ]
  },
  {
   "cell_type": "code",
   "execution_count": 35,
   "metadata": {},
   "outputs": [
    {
     "output_type": "stream",
     "name": "stdout",
     "text": [
      "-------------------- DeMorgans law Law --------------------\n",
      "Truth Table for ~(PvQ)=(~P)^(~Q)\n",
      "P\t Q\t ~P\t ~Q\t ~(PvQ)\t (~P)^(~Q) \n",
      " --------------------------------------------------\n",
      "True \t False \t False \t True \t False \t False\n",
      "False \t False \t True \t True \t True \t True\n",
      "True \t False \t False \t True \t False \t False\n",
      "False \t False \t True \t True \t True \t True\n"
     ]
    }
   ],
   "source": [
    "#DeMorgan's law\n",
    "print(\"-\"*20,\"DeMorgans Law\",\"-\"*20)\n",
    "p=list(map(bool,map(int,input(\"Enter the no. separated by space\").strip().split())))\n",
    "q=list(map(bool,map(int,input(\"Enter the no. separated by space\").strip().split())))\n",
    "print(\"Truth Table for ~(PvQ)=(~P)^(~Q)\\nP\\t Q\\t ~P\\t ~Q\\t ~(PvQ)\\t (~P)^(~Q) \\n\",\"-\"*50)\n",
    "for i,j in zip(p,q):\n",
    "    print(i,\"\\t\",j,\"\\t\",not(i),\"\\t\",not(j),\"\\t\",not(i|j),\"\\t\",(not(i))&(not(j)))"
   ]
  },
  {
   "cell_type": "code",
   "execution_count": 40,
   "metadata": {},
   "outputs": [
    {
     "output_type": "stream",
     "name": "stdout",
     "text": [
      "-------------------- Associate Law --------------------\n",
      "Truth Table for (PvQ)vR=Pv(QvR)\n",
      "P\t Q\t R\t(PvQ)\t(QvR)\t(PvQ)vR  Pv(QvR)\n",
      " --------------------------------------------------\n",
      "True \t True \t False \t True \t True \t True \t True\n",
      "False \t False \t True \t False \t True \t True \t True\n",
      "False \t False \t False \t False \t False \t False \t False\n",
      "True \t False \t True \t True \t True \t True \t True\n"
     ]
    }
   ],
   "source": [
    "#Associate law\n",
    "print(\"-\"*20,\"Associate Law\",\"-\"*20)\n",
    "p=list(map(bool,map(int,input(\"Enter the no. separated by space\").strip().split())))\n",
    "q=list(map(bool,map(int,input(\"Enter the no. separated by space\").strip().split())))\n",
    "r=list(map(bool,map(int,input(\"Enter the no. separated by space\").strip().split())))\n",
    "print(\"Truth Table for (PvQ)vR=Pv(QvR)\\nP\\t Q\\t R\\t(PvQ)\\t(QvR)\\t(PvQ)vR  Pv(QvR)\\n\",\"-\"*50)\n",
    "for i,j,k in zip(p,q,r):\n",
    "    print(i,\"\\t\",j,\"\\t\",k,\"\\t\",i|j,\"\\t\",j|k,\"\\t\",(i|j)|k,\"\\t\",i|(j|k))"
   ]
  },
  {
   "cell_type": "code",
   "execution_count": 1,
   "metadata": {},
   "outputs": [
    {
     "output_type": "stream",
     "name": "stdout",
     "text": [
      "-------------------- Tautology --------------------\n",
      "Truth Table for Pv(~P)=True\n",
      "  P\t ~P\tPv~P\n",
      " --------------------\n",
      "True \t False \t True\n",
      "False \t True \t True\n",
      "True \t False \t True\n",
      "False \t True \t True\n",
      "False \t True \t True\n"
     ]
    }
   ],
   "source": [
    "#Tautology\n",
    "print(\"-\"*20,\"Tautology\",\"-\"*20)\n",
    "p=list(map(bool,map(int,input(\"Enter the no. separated by space\").strip().split())))\n",
    "print(\"Truth Table for Pv(~P)=True\\n  P\\t ~P\\tPv~P\\n\",\"-\"*20)\n",
    "for i in p:\n",
    "    print(i,\"\\t\",not(i),\"\\t\",i|(not(i)))"
   ]
  },
  {
   "cell_type": "code",
   "execution_count": 2,
   "metadata": {},
   "outputs": [
    {
     "output_type": "stream",
     "name": "stdout",
     "text": [
      "-------------------- Contradiction --------------------\n",
      "Truth Table for P^(~P)=True\n",
      "  P\t ~P\tP^~P\n",
      " --------------------\n",
      "True \t False \t False\n",
      "False \t True \t False\n",
      "True \t False \t False\n",
      "True \t False \t False\n",
      "True \t False \t False\n"
     ]
    }
   ],
   "source": [
    "#Contradiction\n",
    "print(\"-\"*20,\"Contradiction\",\"-\"*20)\n",
    "p=list(map(bool,map(int,input(\"Enter the no. separated by space\").strip().split())))\n",
    "print(\"Truth Table for P^(~P)=True\\n  P\\t ~P\\tP^~P\\n\",\"-\"*20)\n",
    "for i in p:\n",
    "    print(i,\"\\t\",not(i),\"\\t\",i&(not(i)))"
   ]
  },
  {
   "cell_type": "code",
   "execution_count": 43,
   "metadata": {},
   "outputs": [
    {
     "output_type": "stream",
     "name": "stdout",
     "text": [
      "-------------------- Associate Law --------------------\n",
      "Truth Table for (PvQ)vR=Pv(QvR)\n",
      "P\t Q\t R\t(PvQ)\t(PvQ)^R\n",
      " --------------------------------------------------\n",
      "True \t True \t False \t True \t False\n",
      "False \t False \t True \t False \t False\n",
      "False \t False \t False \t False \t False\n",
      "True \t False \t True \t True \t True\n",
      "False \t False \t False \t False \t False\n"
     ]
    }
   ],
   "source": [
    "#Contigency\n",
    "print(\"-\"*20,\"Contigency\",\"-\"*20)\n",
    "p=list(map(bool,map(int,input(\"Enter the no. separated by space\").strip().split())))\n",
    "q=list(map(bool,map(int,input(\"Enter the no. separated by space\").strip().split())))\n",
    "r=list(map(bool,map(int,input(\"Enter the no. separated by space\").strip().split())))\n",
    "print(\"Truth Table for (PvQ)vR=Pv(QvR)\\nP\\t Q\\t R\\t(PvQ)\\t(PvQ)^R\\n\",\"-\"*50)\n",
    "for i,j,k in zip(p,q,r):\n",
    "    print(i,\"\\t\",j,\"\\t\",k,\"\\t\",i|j,\"\\t\",(i|j)&k)"
   ]
  },
  {
   "cell_type": "code",
   "execution_count": 53,
   "metadata": {},
   "outputs": [
    {
     "output_type": "stream",
     "name": "stdout",
     "text": [
      "-------------------- Modus Ponen --------------------\nTruth Table for ( (P => Q) ^ P) => Q\nP\t Q\tP=>Q\t(P=>Q)^P\t((P=>Q)^P)=>Q\n --------------------------------------------------\n0 \t 0 \t 1 \t  0 \t\t 1\n0 \t 1 \t 1 \t  0 \t\t 1\n1 \t 0 \t 0 \t  0 \t\t 1\n1 \t 1 \t 1 \t  1 \t\t 1\n"
     ]
    }
   ],
   "source": [
    "#Modus ponen\n",
    "print(\"-\"*20,\"Modus Ponen\",\"-\"*20)\n",
    "p=[0,0,1,1]\n",
    "q=[0,1,0,1]\n",
    "print(\"Truth Table for ( (P => Q) ^ P) => Q\\nP\\t Q\\tP=>Q\\t(P=>Q)^P\\t((P=>Q)^P)=>Q\\n\",\"-\"*50)\n",
    "for i,j in zip(p,q):\n",
    "    r=((not(i))|j)&i\n",
    "    print(i,\"\\t\",j,\"\\t\",(not(i))|j,\"\\t \",r,\"\\t\\t\",(not(r))|j)"
   ]
  },
  {
   "cell_type": "code",
   "execution_count": 62,
   "metadata": {},
   "outputs": [
    {
     "output_type": "stream",
     "name": "stdout",
     "text": [
      "-------------------- Modus Tollen --------------------\nTruth Table for (~Q ^ (P => Q) ) => ~P\nP\t Q\tP=>Q\t~Q^(P=>Q)\t(~Q^(P=>Q))=>~P\n --------------------------------------------------\n0 \t 0 \t 1 \t  1 \t\t 1\n0 \t 1 \t 1 \t  0 \t\t 1\n1 \t 0 \t 0 \t  0 \t\t 1\n1 \t 1 \t 1 \t  0 \t\t 1\n"
     ]
    }
   ],
   "source": [
    "#Modus tollen\n",
    "print(\"-\"*20,\"Modus Tollen\",\"-\"*20)\n",
    "p=[0,0,1,1]\n",
    "q=[0,1,0,1]\n",
    "print(\"Truth Table for (~Q ^ (P => Q) ) => ~P\\nP\\t Q\\tP=>Q\\t~Q^(P=>Q)\\t(~Q^(P=>Q))=>~P\\n\",\"-\"*50)\n",
    "for i,j in zip(p,q):\n",
    "    r=(not(i))|j\n",
    "    s=(not(j))&r\n",
    "    t=(not(s))|(not(i))\n",
    "    print(i,\"\\t\",j,\"\\t\",r,\"\\t \",s,\"\\t\\t\",int(t))"
   ]
  },
  {
   "cell_type": "code",
   "execution_count": null,
   "metadata": {},
   "outputs": [],
   "source": []
  }
 ]
}