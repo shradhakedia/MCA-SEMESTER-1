{
 "metadata": {
  "language_info": {
   "codemirror_mode": {
    "name": "ipython",
    "version": 3
   },
   "file_extension": ".py",
   "mimetype": "text/x-python",
   "name": "python",
   "nbconvert_exporter": "python",
   "pygments_lexer": "ipython3",
   "version": "3.9.1-final"
  },
  "orig_nbformat": 2,
  "kernelspec": {
   "name": "python3",
   "display_name": "Python 3.9.1 64-bit",
   "metadata": {
    "interpreter": {
     "hash": "fe06f96167c4fc64a78c238d993189072a4e72b444216e36203d6f96126eaf0a"
    }
   }
  }
 },
 "nbformat": 4,
 "nbformat_minor": 2,
 "cells": [
  {
   "cell_type": "code",
   "execution_count": 3,
   "metadata": {},
   "outputs": [
    {
     "output_type": "stream",
     "name": "stdout",
     "text": [
      "  1 \n1 1 \n1 2 1 \n1 3 3 1 \n"
     ]
    }
   ],
   "source": [
    "n=int(input(\"Enter no. of rows:\"))\n",
    "pascal=[]\n",
    "for i in range(n):\n",
    "    pascal.append([])\n",
    "    pascal[i].append(1)\n",
    "    for j in range(1,i):\n",
    "        pascal[i].append(pascal[i-1][j-1]+pascal[i-1][j])\n",
    "    if n!=0:\n",
    "        pascal[i].append(1)\n",
    "for i in range(n):\n",
    "    for j in range(i+1):\n",
    "        print(pascal[i][j],end=\" \")\n",
    "    print()"
   ]
  },
  {
   "cell_type": "code",
   "execution_count": null,
   "metadata": {},
   "outputs": [],
   "source": []
  }
 ]
}