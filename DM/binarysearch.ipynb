{
 "metadata": {
  "language_info": {
   "codemirror_mode": {
    "name": "ipython",
    "version": 3
   },
   "file_extension": ".py",
   "mimetype": "text/x-python",
   "name": "python",
   "nbconvert_exporter": "python",
   "pygments_lexer": "ipython3",
   "version": "3.9.1-final"
  },
  "orig_nbformat": 2,
  "kernelspec": {
   "name": "python3",
   "display_name": "Python 3.9.1 64-bit",
   "metadata": {
    "interpreter": {
     "hash": "fe06f96167c4fc64a78c238d993189072a4e72b444216e36203d6f96126eaf0a"
    }
   }
  }
 },
 "nbformat": 4,
 "nbformat_minor": 2,
 "cells": [
  {
   "cell_type": "code",
   "execution_count": 3,
   "metadata": {},
   "outputs": [
    {
     "output_type": "stream",
     "name": "stdout",
     "text": [
      "The array is: [1, 2, 3, 5, 6]\nPosition of searched element is: 4\n"
     ]
    }
   ],
   "source": [
    "#iterative approach\n",
    "arr=list(map(int,input(\"Enter the elements separated by comma:\").strip().split(\",\"))) \n",
    "arr.sort()\n",
    "x=int(input(\"Enter the element you want to search:\"))\n",
    "def Binarysearch(arr,f,l,x):\n",
    "    while f <= l:\n",
    "        mid = l+f//2\n",
    "        if x==arr[mid]:\n",
    "            return mid+1\n",
    "        elif x < arr[mid]:\n",
    "            l = mid-1\n",
    "        else:\n",
    "            f = mid+1\n",
    "    return -1 \n",
    "pos=Binarysearch(arr,0,len(arr)-1,x)\n",
    "print(\"The array is:\",arr)\n",
    "print(\"Position of searched element is:\",pos)"
   ]
  },
  {
   "cell_type": "code",
   "execution_count": 2,
   "metadata": {},
   "outputs": [
    {
     "output_type": "stream",
     "name": "stdout",
     "text": [
      "The array is: [1, 2, 3, 4, 5]\nPosition of searched element is: 3\n"
     ]
    }
   ],
   "source": [
    "#recursive approach\n",
    "arr=list(map(int,input(\"Enter the elements separated by comma:\").strip().split(\",\"))) \n",
    "arr.sort()\n",
    "x=int(input(\"Enter the element you want to search:\"))\n",
    "def Binarysearch(arr,f,l,x):\n",
    "        if f<=l:\n",
    "            mid = l+f//2\n",
    "            if x==arr[mid]:\n",
    "                return mid+1\n",
    "            elif x < arr[mid]:\n",
    "                return Binarysearch(arr,f,mid-1,x)\n",
    "            else:\n",
    "                return Binarysearch(arr,mid+1,l,x)\n",
    "        else:\n",
    "            return -1    \n",
    "pos=Binarysearch(arr,0,len(arr)-1,x)\n",
    "print(\"The array is:\",arr)\n",
    "print(\"Position of searched element is:\",pos)"
   ]
  },
  {
   "cell_type": "code",
   "execution_count": null,
   "metadata": {},
   "outputs": [],
   "source": []
  }
 ]
}