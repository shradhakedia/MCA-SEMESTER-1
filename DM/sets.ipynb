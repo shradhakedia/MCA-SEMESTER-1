{
 "metadata": {
  "language_info": {
   "codemirror_mode": {
    "name": "ipython",
    "version": 3
   },
   "file_extension": ".py",
   "mimetype": "text/x-python",
   "name": "python",
   "nbconvert_exporter": "python",
   "pygments_lexer": "ipython3",
   "version": "3.9.1-final"
  },
  "orig_nbformat": 2,
  "kernelspec": {
   "name": "python3",
   "display_name": "Python 3.9.1 64-bit",
   "metadata": {
    "interpreter": {
     "hash": "fe06f96167c4fc64a78c238d993189072a4e72b444216e36203d6f96126eaf0a"
    }
   }
  }
 },
 "nbformat": 4,
 "nbformat_minor": 2,
 "cells": [
  {
   "cell_type": "code",
   "execution_count": 1,
   "metadata": {},
   "outputs": [
    {
     "output_type": "stream",
     "name": "stdout",
     "text": [
      "first set: {'b', 'd', 'a', 'c'}\nsecond set: {'d', 'f', 'e', 'c'}\nintersection of set: {'d', 'c'}\nUnion of set: {'a', 'e', 'c', 'b', 'd', 'f'}\n"
     ]
    }
   ],
   "source": [
    "#Union and Intersection of set\n",
    "firstset=set(map(str,input(\"Enter set elements separated by space:\").strip().split()))\n",
    "secondset=set(map(str,input(\"Enter set elements separated by space:\").strip().split()))\n",
    "print(\"first set:\",firstset)\n",
    "print(\"second set:\",secondset)\n",
    "print(\"intersection of set:\",firstset & secondset)\n",
    "print(\"Union of set:\",firstset | secondset)"
   ]
  },
  {
   "cell_type": "code",
   "execution_count": 7,
   "metadata": {},
   "outputs": [
    {
     "output_type": "execute_result",
     "data": {
      "text/plain": [
       "[(3,), (3, 2), (2,), (3, 1), (3, 2, 1), (2, 1), (1,)]"
      ]
     },
     "metadata": {},
     "execution_count": 7
    }
   ],
   "source": [
    "#power set\n",
    "def powerset(s):\n",
    "    if not s:\n",
    "        return list()\n",
    "    ele = s.pop()\n",
    "    pSet = powerset(s)\n",
    "    for i in range(len(pSet)):\n",
    "        pSet.append((*pSet[i],ele))\n",
    "    pSet.append((ele,))\n",
    "    return pSet\n",
    "powerset({1,2,3})        "
   ]
  },
  {
   "cell_type": "code",
   "execution_count": 8,
   "metadata": {},
   "outputs": [
    {
     "output_type": "execute_result",
     "data": {
      "text/plain": [
       "[[3, 2, 1], [2, 3, 1], [3, 1, 2], [1, 3, 2], [2, 1, 3], [1, 2, 3]]"
      ]
     },
     "metadata": {},
     "execution_count": 8
    }
   ],
   "source": [
    "#permutation of a set\n",
    "def permutation(s):\n",
    "    if not isinstance(s,list):\n",
    "        s = list(s)\n",
    "        \n",
    "    if len(s)<2:\n",
    "        return [s]\n",
    "    \n",
    "    per_list = []\n",
    "\n",
    "    for i in range(len(s)):\n",
    "        list(per_list.append(p+[s[i]]) for p in permutation(s[:i]+s[i+1:]))           \n",
    "\n",
    "    return per_list\n",
    "permutation({1,2,3})"
   ]
  },
  {
   "cell_type": "code",
   "execution_count": null,
   "metadata": {},
   "outputs": [],
   "source": []
  }
 ]
}